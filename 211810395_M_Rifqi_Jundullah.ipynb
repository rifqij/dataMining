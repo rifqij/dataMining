{
  "nbformat": 4,
  "nbformat_minor": 0,
  "metadata": {
    "colab": {
      "name": "211810395_M Rifqi Jundullah.ipynb",
      "provenance": [],
      "authorship_tag": "ABX9TyPz1Y+gOGgudIG7VDCvw21E",
      "include_colab_link": true
    },
    "kernelspec": {
      "name": "python3",
      "display_name": "Python 3"
    },
    "language_info": {
      "name": "python"
    }
  },
  "cells": [
    {
      "cell_type": "markdown",
      "metadata": {
        "id": "view-in-github",
        "colab_type": "text"
      },
      "source": [
        "<a href=\"https://colab.research.google.com/github/rifqij/dataMining/blob/main/211810395_M_Rifqi_Jundullah.ipynb\" target=\"_parent\"><img src=\"https://colab.research.google.com/assets/colab-badge.svg\" alt=\"Open In Colab\"/></a>"
      ]
    },
    {
      "cell_type": "code",
      "metadata": {
        "colab": {
          "base_uri": "https://localhost:8080/"
        },
        "id": "D7tSKsDN64r6",
        "outputId": "24237532-b977-4e88-f5f8-ce0daaa9db9a"
      },
      "source": [
        "!git clone https://github.com/rifqij/dataMining.git"
      ],
      "execution_count": 1,
      "outputs": [
        {
          "output_type": "stream",
          "name": "stdout",
          "text": [
            "Cloning into 'dataMining'...\n",
            "remote: Enumerating objects: 9, done.\u001b[K\n",
            "remote: Counting objects: 100% (9/9), done.\u001b[K\n",
            "remote: Compressing objects: 100% (9/9), done.\u001b[K\n",
            "remote: Total 9 (delta 1), reused 0 (delta 0), pack-reused 0\u001b[K\n",
            "Unpacking objects: 100% (9/9), done.\n"
          ]
        }
      ]
    },
    {
      "cell_type": "code",
      "metadata": {
        "id": "YzEuH5_s2Mm3",
        "colab": {
          "base_uri": "https://localhost:8080/",
          "height": 204
        },
        "outputId": "731da81b-7df1-44f9-d8b8-05a5c0078390"
      },
      "source": [
        "import pandas as pd\n",
        "\n",
        "df = pd.read_excel('/content/dataMining/KUSTODIAN.xlsx')\n",
        "df.head()"
      ],
      "execution_count": 2,
      "outputs": [
        {
          "output_type": "execute_result",
          "data": {
            "text/html": [
              "<div>\n",
              "<style scoped>\n",
              "    .dataframe tbody tr th:only-of-type {\n",
              "        vertical-align: middle;\n",
              "    }\n",
              "\n",
              "    .dataframe tbody tr th {\n",
              "        vertical-align: top;\n",
              "    }\n",
              "\n",
              "    .dataframe thead th {\n",
              "        text-align: right;\n",
              "    }\n",
              "</style>\n",
              "<table border=\"1\" class=\"dataframe\">\n",
              "  <thead>\n",
              "    <tr style=\"text-align: right;\">\n",
              "      <th></th>\n",
              "      <th>NO</th>\n",
              "      <th>MKBD</th>\n",
              "      <th>LABA</th>\n",
              "      <th>PENDAPATAN</th>\n",
              "      <th>ASETPEMODAL</th>\n",
              "      <th>KEWAJIBAN</th>\n",
              "      <th>EQUITAS</th>\n",
              "      <th>SRE</th>\n",
              "      <th>ASETKUSTODIAN</th>\n",
              "    </tr>\n",
              "  </thead>\n",
              "  <tbody>\n",
              "    <tr>\n",
              "      <th>0</th>\n",
              "      <td>1</td>\n",
              "      <td>34792294854</td>\n",
              "      <td>-4911285297</td>\n",
              "      <td>-2152609958</td>\n",
              "      <td>36448165013214</td>\n",
              "      <td>9025789479</td>\n",
              "      <td>38274064948</td>\n",
              "      <td>806</td>\n",
              "      <td>47299854427</td>\n",
              "    </tr>\n",
              "    <tr>\n",
              "      <th>1</th>\n",
              "      <td>2</td>\n",
              "      <td>219950720527</td>\n",
              "      <td>-6842603516</td>\n",
              "      <td>2796992147</td>\n",
              "      <td>16122667501745</td>\n",
              "      <td>23771561323</td>\n",
              "      <td>367214126460</td>\n",
              "      <td>3497</td>\n",
              "      <td>390985687783</td>\n",
              "    </tr>\n",
              "    <tr>\n",
              "      <th>2</th>\n",
              "      <td>3</td>\n",
              "      <td>194181202894</td>\n",
              "      <td>25234593548</td>\n",
              "      <td>59989404083</td>\n",
              "      <td>3260783347856</td>\n",
              "      <td>143792868463</td>\n",
              "      <td>341958005605</td>\n",
              "      <td>2044</td>\n",
              "      <td>485750874068</td>\n",
              "    </tr>\n",
              "    <tr>\n",
              "      <th>3</th>\n",
              "      <td>4</td>\n",
              "      <td>321208403035</td>\n",
              "      <td>908150265</td>\n",
              "      <td>21035228633</td>\n",
              "      <td>53354819638945</td>\n",
              "      <td>356112632356</td>\n",
              "      <td>265708883878</td>\n",
              "      <td>11228</td>\n",
              "      <td>621821516234</td>\n",
              "    </tr>\n",
              "    <tr>\n",
              "      <th>4</th>\n",
              "      <td>5</td>\n",
              "      <td>49179856454</td>\n",
              "      <td>-3834522895</td>\n",
              "      <td>-2205495431</td>\n",
              "      <td>446452786395</td>\n",
              "      <td>59929365389</td>\n",
              "      <td>117138608728</td>\n",
              "      <td>928</td>\n",
              "      <td>177067974117</td>\n",
              "    </tr>\n",
              "  </tbody>\n",
              "</table>\n",
              "</div>"
            ],
            "text/plain": [
              "   NO          MKBD         LABA  ...       EQUITAS    SRE  ASETKUSTODIAN\n",
              "0   1   34792294854  -4911285297  ...   38274064948    806    47299854427\n",
              "1   2  219950720527  -6842603516  ...  367214126460   3497   390985687783\n",
              "2   3  194181202894  25234593548  ...  341958005605   2044   485750874068\n",
              "3   4  321208403035    908150265  ...  265708883878  11228   621821516234\n",
              "4   5   49179856454  -3834522895  ...  117138608728    928   177067974117\n",
              "\n",
              "[5 rows x 9 columns]"
            ]
          },
          "metadata": {},
          "execution_count": 2
        }
      ]
    },
    {
      "cell_type": "code",
      "metadata": {
        "colab": {
          "base_uri": "https://localhost:8080/",
          "height": 281
        },
        "id": "yvCl_ncK7G-q",
        "outputId": "6e7804dc-0192-48fd-963e-384a603ac080"
      },
      "source": [
        "import matplotlib.pyplot as plt\n",
        "\n",
        "x = df.NO\n",
        "# Markers: https://matplotlib.org/api/markers_api.html\n",
        "\n",
        "plt.scatter(x, df.MKBD)\n",
        "plt.scatter(x, df.LABA, marker='v', color='y')\n",
        "plt.scatter(x, df.PENDAPATAN, marker='^', color='m')\n",
        "plt.scatter(x, df.ASETPEMODAL, marker='<', color='k')\n",
        "plt.scatter(x, df.KEWAJIBAN, marker='>', color='c')\n",
        "plt.scatter(x, df.EQUITAS, marker='1', color='g')\n",
        "plt.scatter(x, df.SRE, marker='2', color='#123')\n",
        "plt.scatter(x, df.ASETKUSTODIAN, marker='*', color='r')\n",
        "plt.title('Scatter Plot Example')\n",
        "plt.show()"
      ],
      "execution_count": 6,
      "outputs": [
        {
          "output_type": "display_data",
          "data": {
            "image/png": "[encoded data removed]",
            "text/plain": [
              "<Figure size 432x288 with 1 Axes>"
            ]
          },
          "metadata": {
            "needs_background": "light"
          }
        }
      ]
    },
    {
      "cell_type": "code",
      "metadata": {
        "colab": {
          "base_uri": "https://localhost:8080/",
          "height": 464
        },
        "id": "Pqq5Waie_LwO",
        "outputId": "80e6069e-76db-4a27-83b0-0267bb768e57"
      },
      "source": [
        "df.hist()"
      ],
      "execution_count": 10,
      "outputs": [
        {
          "output_type": "execute_result",
          "data": {
            "text/plain": [
              "array([[<matplotlib.axes._subplots.AxesSubplot object at 0x7f43642f5710>,\n",
              "        <matplotlib.axes._subplots.AxesSubplot object at 0x7f436427fed0>,\n",
              "        <matplotlib.axes._subplots.AxesSubplot object at 0x7f4364240510>],\n",
              "       [<matplotlib.axes._subplots.AxesSubplot object at 0x7f43641f5b10>,\n",
              "        <matplotlib.axes._subplots.AxesSubplot object at 0x7f43641b9150>,\n",
              "        <matplotlib.axes._subplots.AxesSubplot object at 0x7f436416f750>],\n",
              "       [<matplotlib.axes._subplots.AxesSubplot object at 0x7f4364123dd0>,\n",
              "        <matplotlib.axes._subplots.AxesSubplot object at 0x7f43640e7350>,\n",
              "        <matplotlib.axes._subplots.AxesSubplot object at 0x7f43640e7390>]],\n",
              "      dtype=object)"
            ]
          },
          "metadata": {},
          "execution_count": 10
        },
        {
          "output_type": "display_data",
          "data": {
            "image/png": "[encoded data removed]",
            "text/plain": [
              "<Figure size 432x288 with 9 Axes>"
            ]
          },
          "metadata": {
            "needs_background": "light"
          }
        }
      ]
    }
  ]
}