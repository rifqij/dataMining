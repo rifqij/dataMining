{
  "nbformat": 4,
  "nbformat_minor": 0,
  "metadata": {
    "colab": {
      "name": "UasDataMiningUSK2021",
      "provenance": [],
      "authorship_tag": "ABX9TyPgTE9vup/lvE1mZv7VhEbw",
      "include_colab_link": true
    },
    "kernelspec": {
      "name": "python3",
      "display_name": "Python 3"
    },
    "language_info": {
      "name": "python"
    }
  },
  "cells": [
    {
      "cell_type": "markdown",
      "metadata": {
        "id": "view-in-github",
        "colab_type": "text"
      },
      "source": [
        "<a href=\"https://colab.research.google.com/github/rifqij/dataMining/blob/main/UasDataMiningUSK2021.ipynb\" target=\"_parent\"><img src=\"https://colab.research.google.com/assets/colab-badge.svg\" alt=\"Open In Colab\"/></a>"
      ]
    },
    {
      "cell_type": "code",
      "metadata": {
        "id": "WqRBnTssoCY_",
        "colab": {
          "base_uri": "https://localhost:8080/"
        },
        "outputId": "087694dc-c509-4da2-f99b-1a6439f4ca43"
      },
      "source": [
        "!git clone https://github.com/rifqij/dataMining.git"
      ],
      "execution_count": null,
      "outputs": [
        {
          "output_type": "stream",
          "name": "stdout",
          "text": [
            "Cloning into 'dataMining'...\n",
            "remote: Enumerating objects: 21, done.\u001b[K\n",
            "remote: Counting objects: 100% (21/21), done.\u001b[K\n",
            "remote: Compressing objects: 100% (21/21), done.\u001b[K\n",
            "remote: Total 21 (delta 4), reused 0 (delta 0), pack-reused 0\u001b[K\n",
            "Unpacking objects: 100% (21/21), done.\n"
          ]
        }
      ]
    },
    {
      "cell_type": "code",
      "metadata": {
        "colab": {
          "base_uri": "https://localhost:8080/",
          "height": 226
        },
        "id": "F8qlH-TQluMC",
        "outputId": "b838db44-c345-4d60-8605-3bf18068a19a"
      },
      "source": [
        "# Load data\n",
        "import pandas as pd\n",
        "df = pd.read_csv(\"/content/dataMining/classification15.csv\")\n",
        "df.head()"
      ],
      "execution_count": null,
      "outputs": [
        {
          "output_type": "execute_result",
          "data": {
            "text/html": [
              "<div>\n",
              "<style scoped>\n",
              "    .dataframe tbody tr th:only-of-type {\n",
              "        vertical-align: middle;\n",
              "    }\n",
              "\n",
              "    .dataframe tbody tr th {\n",
              "        vertical-align: top;\n",
              "    }\n",
              "\n",
              "    .dataframe thead th {\n",
              "        text-align: right;\n",
              "    }\n",
              "</style>\n",
              "<table border=\"1\" class=\"dataframe\">\n",
              "  <thead>\n",
              "    <tr style=\"text-align: right;\">\n",
              "      <th></th>\n",
              "      <th>SEQN</th>\n",
              "      <th>DEMO.RIDAGEYR</th>\n",
              "      <th>DEMO.RIAGENDR</th>\n",
              "      <th>DEMO.RIDRETH1</th>\n",
              "      <th>DEMO.DMDEDUC2</th>\n",
              "      <th>DEMO.INDHHINC</th>\n",
              "      <th>LAB10AM.LBXGLU</th>\n",
              "      <th>MCQ.MCQ250A</th>\n",
              "      <th>WHQ.WHD010</th>\n",
              "      <th>WHQ.WHD020</th>\n",
              "      <th>BPQ.BPQ020</th>\n",
              "      <th>SMQ.SMQ020</th>\n",
              "      <th>ALQ.ALQ100</th>\n",
              "      <th>BMX.BMXWAIST</th>\n",
              "      <th>BMX.BMXBMI</th>\n",
              "      <th>labels</th>\n",
              "    </tr>\n",
              "  </thead>\n",
              "  <tbody>\n",
              "    <tr>\n",
              "      <th>0</th>\n",
              "      <td>2</td>\n",
              "      <td>77</td>\n",
              "      <td>1</td>\n",
              "      <td>3</td>\n",
              "      <td>5.0</td>\n",
              "      <td>8.0</td>\n",
              "      <td>83.7</td>\n",
              "      <td>2.0</td>\n",
              "      <td>69.0</td>\n",
              "      <td>168.0</td>\n",
              "      <td>2.0</td>\n",
              "      <td>2.0</td>\n",
              "      <td>1.0</td>\n",
              "      <td>98.0</td>\n",
              "      <td>24.90</td>\n",
              "      <td>cases</td>\n",
              "    </tr>\n",
              "    <tr>\n",
              "      <th>1</th>\n",
              "      <td>5</td>\n",
              "      <td>49</td>\n",
              "      <td>1</td>\n",
              "      <td>3</td>\n",
              "      <td>5.0</td>\n",
              "      <td>11.0</td>\n",
              "      <td>99.9</td>\n",
              "      <td>2.0</td>\n",
              "      <td>71.0</td>\n",
              "      <td>206.0</td>\n",
              "      <td>1.0</td>\n",
              "      <td>1.0</td>\n",
              "      <td>1.0</td>\n",
              "      <td>99.9</td>\n",
              "      <td>29.10</td>\n",
              "      <td>cases</td>\n",
              "    </tr>\n",
              "    <tr>\n",
              "      <th>2</th>\n",
              "      <td>7</td>\n",
              "      <td>59</td>\n",
              "      <td>2</td>\n",
              "      <td>4</td>\n",
              "      <td>2.0</td>\n",
              "      <td>NaN</td>\n",
              "      <td>85.6</td>\n",
              "      <td>1.0</td>\n",
              "      <td>65.0</td>\n",
              "      <td>176.0</td>\n",
              "      <td>1.0</td>\n",
              "      <td>1.0</td>\n",
              "      <td>2.0</td>\n",
              "      <td>90.7</td>\n",
              "      <td>29.39</td>\n",
              "      <td>cases</td>\n",
              "    </tr>\n",
              "    <tr>\n",
              "      <th>3</th>\n",
              "      <td>10</td>\n",
              "      <td>43</td>\n",
              "      <td>1</td>\n",
              "      <td>4</td>\n",
              "      <td>3.0</td>\n",
              "      <td>NaN</td>\n",
              "      <td>89.8</td>\n",
              "      <td>9.0</td>\n",
              "      <td>75.0</td>\n",
              "      <td>200.0</td>\n",
              "      <td>2.0</td>\n",
              "      <td>1.0</td>\n",
              "      <td>1.0</td>\n",
              "      <td>108.0</td>\n",
              "      <td>30.94</td>\n",
              "      <td>cases</td>\n",
              "    </tr>\n",
              "    <tr>\n",
              "      <th>4</th>\n",
              "      <td>12</td>\n",
              "      <td>37</td>\n",
              "      <td>1</td>\n",
              "      <td>3</td>\n",
              "      <td>4.0</td>\n",
              "      <td>11.0</td>\n",
              "      <td>82.9</td>\n",
              "      <td>1.0</td>\n",
              "      <td>70.0</td>\n",
              "      <td>222.0</td>\n",
              "      <td>1.0</td>\n",
              "      <td>2.0</td>\n",
              "      <td>1.0</td>\n",
              "      <td>112.8</td>\n",
              "      <td>30.62</td>\n",
              "      <td>cases</td>\n",
              "    </tr>\n",
              "  </tbody>\n",
              "</table>\n",
              "</div>"
            ],
            "text/plain": [
              "   SEQN  DEMO.RIDAGEYR  DEMO.RIAGENDR  ...  BMX.BMXWAIST  BMX.BMXBMI  labels\n",
              "0     2             77              1  ...          98.0       24.90   cases\n",
              "1     5             49              1  ...          99.9       29.10   cases\n",
              "2     7             59              2  ...          90.7       29.39   cases\n",
              "3    10             43              1  ...         108.0       30.94   cases\n",
              "4    12             37              1  ...         112.8       30.62   cases\n",
              "\n",
              "[5 rows x 16 columns]"
            ]
          },
          "metadata": {},
          "execution_count": 2
        }
      ]
    },
    {
      "cell_type": "markdown",
      "metadata": {
        "id": "8k-6u9LEmcem"
      },
      "source": [
        "questions_diabetes_metadata.txt\n",
        "1.   Demographics \t- DEMO.SEQN [Primary key]\n",
        "2. Questionnaire \t- DIQ.DIQ010 [Doctor told you has diabetes]\n",
        "3. Lab \t\t- LAB10AM.LBXGLU [blood glucose level]\n",
        "4. Q \t\t- MCQ.MCQ250A [family history of diabetes]\n",
        "5. DEMO \t\t- DEMO.RIDAGEYR [Age]\n",
        "6. DEMO \t\t- DEMO.RIAGENDR [Gender]\n",
        "7. DEMO \t\t- DEMO.RIDRETH1 [Race]\n",
        "8. Q \t\t- WHQ.WHD010 [height]\n",
        "9. Q \t\t- WHQ.WHD020 [weight]\n",
        "10. Exam \t\t- BMX.BMXWAIST [waist circumference]\n",
        "11. Exam \t\t- BMX.BMXBMI [Body mass index]\n",
        "12. Q \t\t- BPQ.BPQ020 [Hypertension or high blood pressure]\n",
        "13. Q \t\t- PAQ.PAQ180 [Avg. level of physical ativity each day]\n",
        "14. Q \t\t- SMQ.SMQ020 [Smoker/ smoked at least 100 cigarettes in life]\n",
        "15. Q \t\t- ALQ.ALQ100 [alcohol / had at least 23 drinks per year]\n",
        "16. Demo \t\t- DEMO.DMDEDUC2 [education]\n",
        "\n",
        "\n"
      ]
    },
    {
      "cell_type": "markdown",
      "metadata": {
        "id": "7tcu8BvGrjiO"
      },
      "source": [
        "1. SVM"
      ]
    },
    {
      "cell_type": "code",
      "metadata": {
        "id": "niQUlRODoqbH"
      },
      "source": [
        "# SVM\n",
        "from sklearn.svm import SVC\n",
        "from matplotlib import pyplot as plt\n",
        "%matplotlib inline"
      ],
      "execution_count": null,
      "outputs": []
    },
    {
      "cell_type": "code",
      "metadata": {
        "colab": {
          "base_uri": "https://localhost:8080/"
        },
        "id": "cfWitmr-nW_Q",
        "outputId": "3ebda9ee-c26c-4a5f-c2a7-01c27625884c"
      },
      "source": [
        "#Cleaning (drop baris dengan NaN) dan Partisi data (30% untuk data testing)\n",
        "from sklearn.model_selection import train_test_split\n",
        "\n",
        "df1 = df.dropna()\n",
        "X = df1.loc[:, df1.columns != 'labels']\n",
        "y = df1.labels\n",
        "X_train, X_test, y_train, y_test = train_test_split(X, y, test_size=0.3)\n",
        "\n",
        "print(len(X_train))\n",
        "print(len(X_test))"
      ],
      "execution_count": null,
      "outputs": [
        {
          "output_type": "stream",
          "name": "stdout",
          "text": [
            "11113\n",
            "4763\n"
          ]
        }
      ]
    },
    {
      "cell_type": "code",
      "metadata": {
        "colab": {
          "base_uri": "https://localhost:8080/"
        },
        "id": "8BsUrzJ2oVLG",
        "outputId": "9aacad7e-ea25-4915-b6b8-5f0fd7685353"
      },
      "source": [
        "# fit model svm dengan train data\n",
        "model = SVC(kernel='linear')\n",
        "model.fit(X_train, y_train)"
      ],
      "execution_count": null,
      "outputs": [
        {
          "output_type": "execute_result",
          "data": {
            "text/plain": [
              "SVC(kernel='linear')"
            ]
          },
          "metadata": {},
          "execution_count": 15
        }
      ]
    },
    {
      "cell_type": "code",
      "metadata": {
        "id": "tzkN0nWsokSa"
      },
      "source": [
        "percentage = model.score(X_test, y_test)"
      ],
      "execution_count": null,
      "outputs": []
    },
    {
      "cell_type": "code",
      "metadata": {
        "colab": {
          "base_uri": "https://localhost:8080/"
        },
        "id": "wPZ7mHkVpGuK",
        "outputId": "e877269f-b970-43da-d6fb-4b06361d654a"
      },
      "source": [
        "# Melihat performa model berdasarkan confusion matrix\n",
        "# Diperoleh akurasi sebesar 99.0762%\n",
        "from sklearn.metrics import confusion_matrix\n",
        "\n",
        "predictions = model.predict(X_test)\n",
        "res = confusion_matrix(y_test, predictions)\n",
        "print(\"Confusion Matrix\")\n",
        "print(res)\n",
        "print(f\"Test Set: {len(X_test)}\")\n",
        "print(f\"Accuracy = {percentage*100} %\")"
      ],
      "execution_count": null,
      "outputs": [
        {
          "output_type": "stream",
          "name": "stdout",
          "text": [
            "Confusion Matrix\n",
            "[[2879   12]\n",
            " [  32 1840]]\n",
            "Test Set: 4763\n",
            "Accuracy = 99.07621247113164 %\n"
          ]
        }
      ]
    },
    {
      "cell_type": "markdown",
      "metadata": {
        "id": "8fLJilLnrgBo"
      },
      "source": [
        "2. Association Rule"
      ]
    },
    {
      "cell_type": "code",
      "metadata": {
        "colab": {
          "base_uri": "https://localhost:8080/"
        },
        "id": "0IFTTrpAqiSg",
        "outputId": "c698c380-3ab2-4df2-b2f6-981058f95d91"
      },
      "source": [
        "#Association Rule\n",
        "!pip install apyori  #This instals the Apyori package for using the Association Mining Apriori algorithm\n",
        "\n",
        "import numpy as np\n",
        "from apyori import apriori"
      ],
      "execution_count": null,
      "outputs": [
        {
          "output_type": "stream",
          "name": "stdout",
          "text": [
            "Collecting apyori\n",
            "  Downloading apyori-1.1.2.tar.gz (8.6 kB)\n",
            "Building wheels for collected packages: apyori\n",
            "  Building wheel for apyori (setup.py) ... \u001b[?25l\u001b[?25hdone\n",
            "  Created wheel for apyori: filename=apyori-1.1.2-py3-none-any.whl size=5974 sha256=2fe46cc222fa96950fc55344de949899741ae00e773ee84669e1a5ad9e8c7292\n",
            "  Stored in directory: /root/.cache/pip/wheels/cb/f6/e1/57973c631d27efd1a2f375bd6a83b2a616c4021f24aab84080\n",
            "Successfully built apyori\n",
            "Installing collected packages: apyori\n",
            "Successfully installed apyori-1.1.2\n"
          ]
        }
      ]
    },
    {
      "cell_type": "code",
      "metadata": {
        "colab": {
          "base_uri": "https://localhost:8080/"
        },
        "id": "yQywa-4fq5No",
        "outputId": "e4b7e9ef-d471-4fc4-f5d8-938023a7e0b6"
      },
      "source": [
        "# Melakukan normalisasi pada data yang telah di clean (drop NaN)\n",
        "# Import module to standardize the scale\n",
        "from sklearn.preprocessing import StandardScaler\n",
        "# Create instance (i.e. object) of the standard scaler\n",
        "scaler = StandardScaler()\n",
        "# Fit the object to all the data except the Target Class\n",
        "# use the .drop() method to gather all features except Target Class\n",
        "# axis -> argument refers to columns; a 0 would represent rows\n",
        "scaler.fit(df1.drop('labels', axis=1))\n",
        "\n",
        "# Use scaler object to conduct a transforms\n",
        "scaled_features = scaler.transform(df1.drop('labels',axis=1))\n",
        "# Review the array of values generated from the scaled features process\n",
        "scaled_features"
      ],
      "execution_count": null,
      "outputs": [
        {
          "output_type": "execute_result",
          "data": {
            "text/plain": [
              "array([[-1.8248519 ,  1.62541335, -1.02319666, ..., -0.59925847,\n",
              "         0.0418742 , -0.54511328],\n",
              "       [-1.82473849,  0.06506371, -1.02319666, ..., -0.59925847,\n",
              "         0.16565999,  0.11912392],\n",
              "       [-1.82447386, -0.60365757, -1.02319666, ..., -0.59925847,\n",
              "         1.00610036,  0.35951453],\n",
              "       ...,\n",
              "       [ 1.7158898 , -0.49220402, -1.02319666, ...,  1.55905086,\n",
              "        -0.31645309, -0.37114639],\n",
              "       [ 1.71638124, -0.77083789,  0.97732922, ..., -0.59925847,\n",
              "        -0.91583692, -0.97212291],\n",
              "       [ 1.7170617 ,  1.56968658,  0.97732922, ...,  1.55905086,\n",
              "        -0.15357705, -1.08282911]])"
            ]
          },
          "metadata": {},
          "execution_count": 20
        }
      ]
    },
    {
      "cell_type": "code",
      "metadata": {
        "colab": {
          "base_uri": "https://localhost:8080/",
          "height": 226
        },
        "id": "BUWSyor1r64s",
        "outputId": "65917f9b-8d49-46fa-cb4d-04a2234a20f3"
      },
      "source": [
        "df_svm = pd.DataFrame(scaled_features, columns=df1.columns[:-1])\n",
        "df_svm.head()"
      ],
      "execution_count": null,
      "outputs": [
        {
          "output_type": "execute_result",
          "data": {
            "text/html": [
              "<div>\n",
              "<style scoped>\n",
              "    .dataframe tbody tr th:only-of-type {\n",
              "        vertical-align: middle;\n",
              "    }\n",
              "\n",
              "    .dataframe tbody tr th {\n",
              "        vertical-align: top;\n",
              "    }\n",
              "\n",
              "    .dataframe thead th {\n",
              "        text-align: right;\n",
              "    }\n",
              "</style>\n",
              "<table border=\"1\" class=\"dataframe\">\n",
              "  <thead>\n",
              "    <tr style=\"text-align: right;\">\n",
              "      <th></th>\n",
              "      <th>SEQN</th>\n",
              "      <th>DEMO.RIDAGEYR</th>\n",
              "      <th>DEMO.RIAGENDR</th>\n",
              "      <th>DEMO.RIDRETH1</th>\n",
              "      <th>DEMO.DMDEDUC2</th>\n",
              "      <th>DEMO.INDHHINC</th>\n",
              "      <th>LAB10AM.LBXGLU</th>\n",
              "      <th>MCQ.MCQ250A</th>\n",
              "      <th>WHQ.WHD010</th>\n",
              "      <th>WHQ.WHD020</th>\n",
              "      <th>BPQ.BPQ020</th>\n",
              "      <th>SMQ.SMQ020</th>\n",
              "      <th>ALQ.ALQ100</th>\n",
              "      <th>BMX.BMXWAIST</th>\n",
              "      <th>BMX.BMXBMI</th>\n",
              "    </tr>\n",
              "  </thead>\n",
              "  <tbody>\n",
              "    <tr>\n",
              "      <th>0</th>\n",
              "      <td>-1.824852</td>\n",
              "      <td>1.625413</td>\n",
              "      <td>-1.023197</td>\n",
              "      <td>0.081458</td>\n",
              "      <td>1.250420</td>\n",
              "      <td>-0.145042</td>\n",
              "      <td>-0.853687</td>\n",
              "      <td>0.230247</td>\n",
              "      <td>-0.120194</td>\n",
              "      <td>-0.055991</td>\n",
              "      <td>0.573372</td>\n",
              "      <td>0.852873</td>\n",
              "      <td>-0.599258</td>\n",
              "      <td>0.041874</td>\n",
              "      <td>-0.545113</td>\n",
              "    </tr>\n",
              "    <tr>\n",
              "      <th>1</th>\n",
              "      <td>-1.824738</td>\n",
              "      <td>0.065064</td>\n",
              "      <td>-1.023197</td>\n",
              "      <td>0.081458</td>\n",
              "      <td>1.250420</td>\n",
              "      <td>0.094996</td>\n",
              "      <td>-0.006608</td>\n",
              "      <td>0.230247</td>\n",
              "      <td>-0.118519</td>\n",
              "      <td>-0.044644</td>\n",
              "      <td>-1.371682</td>\n",
              "      <td>-1.000934</td>\n",
              "      <td>-0.599258</td>\n",
              "      <td>0.165660</td>\n",
              "      <td>0.119124</td>\n",
              "    </tr>\n",
              "    <tr>\n",
              "      <th>2</th>\n",
              "      <td>-1.824474</td>\n",
              "      <td>-0.603658</td>\n",
              "      <td>-1.023197</td>\n",
              "      <td>0.081458</td>\n",
              "      <td>0.467595</td>\n",
              "      <td>0.094996</td>\n",
              "      <td>-0.895518</td>\n",
              "      <td>-0.657850</td>\n",
              "      <td>-0.119357</td>\n",
              "      <td>-0.039866</td>\n",
              "      <td>-1.371682</td>\n",
              "      <td>0.852873</td>\n",
              "      <td>-0.599258</td>\n",
              "      <td>1.006100</td>\n",
              "      <td>0.359515</td>\n",
              "    </tr>\n",
              "    <tr>\n",
              "      <th>3</th>\n",
              "      <td>-1.824360</td>\n",
              "      <td>-0.547931</td>\n",
              "      <td>0.977329</td>\n",
              "      <td>0.081458</td>\n",
              "      <td>1.250420</td>\n",
              "      <td>-0.145042</td>\n",
              "      <td>-0.064126</td>\n",
              "      <td>0.230247</td>\n",
              "      <td>-0.120194</td>\n",
              "      <td>-0.055394</td>\n",
              "      <td>0.573372</td>\n",
              "      <td>-1.000934</td>\n",
              "      <td>-0.599258</td>\n",
              "      <td>-0.694326</td>\n",
              "      <td>-0.263603</td>\n",
              "    </tr>\n",
              "    <tr>\n",
              "      <th>4</th>\n",
              "      <td>-1.824171</td>\n",
              "      <td>-1.383832</td>\n",
              "      <td>0.977329</td>\n",
              "      <td>-1.712192</td>\n",
              "      <td>-1.880882</td>\n",
              "      <td>-0.305067</td>\n",
              "      <td>-0.492894</td>\n",
              "      <td>-0.657850</td>\n",
              "      <td>-0.126895</td>\n",
              "      <td>-0.066442</td>\n",
              "      <td>0.573372</td>\n",
              "      <td>-1.000934</td>\n",
              "      <td>-0.599258</td>\n",
              "      <td>-1.065683</td>\n",
              "      <td>-0.738058</td>\n",
              "    </tr>\n",
              "  </tbody>\n",
              "</table>\n",
              "</div>"
            ],
            "text/plain": [
              "       SEQN  DEMO.RIDAGEYR  DEMO.RIAGENDR  ...  ALQ.ALQ100  BMX.BMXWAIST  BMX.BMXBMI\n",
              "0 -1.824852       1.625413      -1.023197  ...   -0.599258      0.041874   -0.545113\n",
              "1 -1.824738       0.065064      -1.023197  ...   -0.599258      0.165660    0.119124\n",
              "2 -1.824474      -0.603658      -1.023197  ...   -0.599258      1.006100    0.359515\n",
              "3 -1.824360      -0.547931       0.977329  ...   -0.599258     -0.694326   -0.263603\n",
              "4 -1.824171      -1.383832       0.977329  ...   -0.599258     -1.065683   -0.738058\n",
              "\n",
              "[5 rows x 15 columns]"
            ]
          },
          "metadata": {},
          "execution_count": 21
        }
      ]
    },
    {
      "cell_type": "code",
      "metadata": {
        "colab": {
          "base_uri": "https://localhost:8080/"
        },
        "id": "97K7eAe7sGmV",
        "outputId": "0a450470-b30b-42a3-add2-0b5300a4ecd5"
      },
      "source": [
        "# split the data\n",
        "from sklearn.model_selection import train_test_split\n",
        "# reset the X\n",
        "X = df_svm\n",
        "X_train, X_test, y_train, y_test = train_test_split(X, y, test_size=0.3, random_state=0)\n",
        "\n",
        "print(len(X_train))\n",
        "print(len(X_test))"
      ],
      "execution_count": null,
      "outputs": [
        {
          "output_type": "stream",
          "name": "stdout",
          "text": [
            "11113\n",
            "4763\n"
          ]
        }
      ]
    },
    {
      "cell_type": "code",
      "metadata": {
        "colab": {
          "base_uri": "https://localhost:8080/"
        },
        "id": "4lvs3i8Tswru",
        "outputId": "3e77d87f-8c0f-4d5c-f5cf-608e5c37a2cb"
      },
      "source": [
        "# Import module for KNN\n",
        "from sklearn.neighbors import KNeighborsClassifier\n",
        "# Create KNN instance\n",
        "# n_neighbors -> argument identifies the amount of neighbors used to ID classification\n",
        "knn = KNeighborsClassifier(n_neighbors=1)\n",
        "# Fit (i.e. traing) the model\n",
        "knn.fit(X_train, y_train)"
      ],
      "execution_count": null,
      "outputs": [
        {
          "output_type": "execute_result",
          "data": {
            "text/plain": [
              "KNeighborsClassifier(n_neighbors=1)"
            ]
          },
          "metadata": {},
          "execution_count": 25
        }
      ]
    },
    {
      "cell_type": "code",
      "metadata": {
        "colab": {
          "base_uri": "https://localhost:8080/"
        },
        "id": "79ZYXu4ps1Of",
        "outputId": "0ee6246d-920f-4f66-ae93-6c84cb2d8d61"
      },
      "source": [
        "# Use the .predict() method to make predictions from the X_test subset\n",
        "pred = knn.predict(X_test)\n",
        "# Review the predictions\n",
        "pred"
      ],
      "execution_count": null,
      "outputs": [
        {
          "output_type": "execute_result",
          "data": {
            "text/plain": [
              "array(['non-cases', 'non-cases', 'cases', ..., 'cases', 'cases', 'cases'],\n",
              "      dtype=object)"
            ]
          },
          "metadata": {},
          "execution_count": 26
        }
      ]
    },
    {
      "cell_type": "code",
      "metadata": {
        "colab": {
          "base_uri": "https://localhost:8080/"
        },
        "id": "0Wv0S3YPs4aw",
        "outputId": "34a2af1f-2bc1-4028-95a6-8ed2b1512ca3"
      },
      "source": [
        "# Import classification report and confusion matrix to evaluate predictions\n",
        "from sklearn.metrics import classification_report, confusion_matrix\n",
        "\n",
        "# Print out classification report and confusion matrix\n",
        "print(classification_report(y_test, pred))"
      ],
      "execution_count": null,
      "outputs": [
        {
          "output_type": "stream",
          "name": "stdout",
          "text": [
            "              precision    recall  f1-score   support\n",
            "\n",
            "       cases       0.82      0.84      0.83      2917\n",
            "   non-cases       0.73      0.70      0.72      1846\n",
            "\n",
            "    accuracy                           0.78      4763\n",
            "   macro avg       0.77      0.77      0.77      4763\n",
            "weighted avg       0.78      0.78      0.78      4763\n",
            "\n"
          ]
        }
      ]
    },
    {
      "cell_type": "code",
      "metadata": {
        "colab": {
          "base_uri": "https://localhost:8080/"
        },
        "id": "2L9NXKYjs53G",
        "outputId": "eeb0758e-7a83-4f2a-b5c0-f5b88fca5bdb"
      },
      "source": [
        "# Print confusion matrix\n",
        "# diperoleh akurasi 78.4799%\n",
        "cmat = confusion_matrix(y_test, pred)\n",
        "#print(cmat)\n",
        "print('TP - True Negative {}'.format(cmat[0,0]))\n",
        "print('FP - False Positive {}'.format(cmat[0,1]))\n",
        "print('FN - False Negative {}'.format(cmat[1,0]))\n",
        "print('TP - True Positive {}'.format(cmat[1,1]))\n",
        "print('Accuracy Rate: {}'.format(np.divide(np.sum([cmat[0,0],cmat[1,1]]),np.sum(cmat))))\n",
        "print('Misclassification Rate: {}'.format(np.divide(np.sum([cmat[0,1],cmat[1,0]]),np.sum(cmat))))"
      ],
      "execution_count": null,
      "outputs": [
        {
          "output_type": "stream",
          "name": "stdout",
          "text": [
            "TP - True Negative 2441\n",
            "FP - False Positive 476\n",
            "FN - False Negative 549\n",
            "TP - True Positive 1297\n",
            "Accuracy Rate: 0.7847994961158934\n",
            "Misclassification Rate: 0.21520050388410666\n"
          ]
        }
      ]
    },
    {
      "cell_type": "code",
      "metadata": {
        "id": "ihAGvyqQs7fH"
      },
      "source": [
        "error_rate = []\n",
        "for i in range(1,40):\n",
        "    \n",
        "    knn = KNeighborsClassifier(n_neighbors=i)\n",
        "    knn.fit(X_train, y_train)\n",
        "    pred_i = knn.predict(X_test)\n",
        "    error_rate.append(np.mean(pred_i != y_test))"
      ],
      "execution_count": null,
      "outputs": []
    },
    {
      "cell_type": "code",
      "metadata": {
        "colab": {
          "base_uri": "https://localhost:8080/",
          "height": 312
        },
        "id": "fDb_9x26tFXw",
        "outputId": "703cafc6-fe47-48c0-e379-f5ad15cbd2cc"
      },
      "source": [
        "# Evaluasi nilai k terbaik\n",
        "# Configure and plot error rate over k values\n",
        "plt.figure(figsize=(10,4))\n",
        "plt.plot(range(1,40), error_rate, color='blue', linestyle='dashed', marker='o', markerfacecolor='red', markersize=10)\n",
        "plt.title('Error Rate vs. K-Values')\n",
        "plt.xlabel('K-Values')\n",
        "plt.ylabel('Error Rate')"
      ],
      "execution_count": null,
      "outputs": [
        {
          "output_type": "execute_result",
          "data": {
            "text/plain": [
              "Text(0, 0.5, 'Error Rate')"
            ]
          },
          "metadata": {},
          "execution_count": 31
        },
        {
          "output_type": "display_data",
          "data": {
            "image/png": "[encoded data removed]",
            "text/plain": [
              "<Figure size 720x288 with 1 Axes>"
            ]
          },
          "metadata": {
            "needs_background": "light"
          }
        }
      ]
    },
    {
      "cell_type": "code",
      "metadata": {
        "colab": {
          "base_uri": "https://localhost:8080/"
        },
        "id": "KBXM9n-VtG7f",
        "outputId": "b6b8f2d9-cebd-42f9-e9e1-6c703d0a588e"
      },
      "source": [
        "# Retrain model using optimal k-value\n",
        "knn = KNeighborsClassifier(n_neighbors=15)\n",
        "knn.fit(X_train, y_train)\n",
        "pred = knn.predict(X_test)\n",
        "# Print out classification report and confusion matrix\n",
        "print(classification_report(y_test, pred))"
      ],
      "execution_count": null,
      "outputs": [
        {
          "output_type": "stream",
          "name": "stdout",
          "text": [
            "              precision    recall  f1-score   support\n",
            "\n",
            "       cases       0.82      0.92      0.87      2917\n",
            "   non-cases       0.85      0.68      0.76      1846\n",
            "\n",
            "    accuracy                           0.83      4763\n",
            "   macro avg       0.83      0.80      0.81      4763\n",
            "weighted avg       0.83      0.83      0.82      4763\n",
            "\n"
          ]
        }
      ]
    },
    {
      "cell_type": "code",
      "metadata": {
        "colab": {
          "base_uri": "https://localhost:8080/"
        },
        "id": "rcuy62nutcvd",
        "outputId": "56bae72b-058b-4692-f773-cf038c597c2d"
      },
      "source": [
        "# confusion matrix baru\n",
        "# diperoleh akurasi lebih baik sebesar 82.9099%\n",
        "cmat = confusion_matrix(y_test, pred)\n",
        "#print(cmat)\n",
        "print('TP - True Negative {}'.format(cmat[0,0]))\n",
        "print('FP - False Positive {}'.format(cmat[0,1]))\n",
        "print('FN - False Negative {}'.format(cmat[1,0]))\n",
        "print('TP - True Positive {}'.format(cmat[1,1]))\n",
        "print('Accuracy Rate: {}'.format(np.divide(np.sum([cmat[0,0],cmat[1,1]]),np.sum(cmat))))\n",
        "print('Misclassification Rate: {}'.format(np.divide(np.sum([cmat[0,1],cmat[1,0]]),np.sum(cmat))))"
      ],
      "execution_count": null,
      "outputs": [
        {
          "output_type": "stream",
          "name": "stdout",
          "text": [
            "TP - True Negative 2693\n",
            "FP - False Positive 224\n",
            "FN - False Negative 590\n",
            "TP - True Positive 1256\n",
            "Accuracy Rate: 0.8290993071593533\n",
            "Misclassification Rate: 0.17090069284064666\n"
          ]
        }
      ]
    }
  ]
}